{
 "cells": [
  {
   "cell_type": "code",
   "execution_count": 1,
   "metadata": {
    "collapsed": false,
    "deletable": true,
    "editable": true
   },
   "outputs": [
    {
     "name": "stderr",
     "output_type": "stream",
     "text": [
      "Using TensorFlow backend.\n"
     ]
    }
   ],
   "source": [
    "import model\n",
    "from keras.layers import Lambda, Merge, Input\n",
    "from keras.models import Sequential\n",
    "import numpy as np\n"
   ]
  },
  {
   "cell_type": "code",
   "execution_count": 5,
   "metadata": {
    "collapsed": false,
    "deletable": true,
    "editable": true
   },
   "outputs": [],
   "source": [
    "del dcgan\n",
    "reload(model)\n",
    "from model import generator_model, discriminator_model,DCGan\n",
    "dcgan = DCGan(100,[])"
   ]
  },
  {
   "cell_type": "code",
   "execution_count": 6,
   "metadata": {
    "collapsed": false,
    "deletable": true,
    "editable": true
   },
   "outputs": [
    {
     "name": "stdout",
     "output_type": "stream",
     "text": [
      "____________________________________________________________________________________________________\n",
      "Layer (type)                     Output Shape          Param #     Connected to                     \n",
      "====================================================================================================\n",
      "convolution2d_5 (Convolution2D)  (None, 32, 32, 64)    4864        convolution2d_input_2[0][0]      \n",
      "____________________________________________________________________________________________________\n",
      "leakyrelu_5 (LeakyReLU)          (None, 32, 32, 64)    0           convolution2d_5[0][0]            \n",
      "____________________________________________________________________________________________________\n",
      "convolution2d_6 (Convolution2D)  (None, 16, 16, 128)   204928      leakyrelu_5[0][0]                \n",
      "____________________________________________________________________________________________________\n",
      "leakyrelu_6 (LeakyReLU)          (None, 16, 16, 128)   0           convolution2d_6[0][0]            \n",
      "____________________________________________________________________________________________________\n",
      "batchnormalization_12 (BatchNorm (None, 16, 16, 128)   512         leakyrelu_6[0][0]                \n",
      "____________________________________________________________________________________________________\n",
      "convolution2d_7 (Convolution2D)  (None, 8, 8, 256)     819456      batchnormalization_12[0][0]      \n",
      "____________________________________________________________________________________________________\n",
      "leakyrelu_7 (LeakyReLU)          (None, 8, 8, 256)     0           convolution2d_7[0][0]            \n",
      "____________________________________________________________________________________________________\n",
      "batchnormalization_13 (BatchNorm (None, 8, 8, 256)     1024        leakyrelu_7[0][0]                \n",
      "____________________________________________________________________________________________________\n",
      "convolution2d_8 (Convolution2D)  (None, 4, 4, 512)     3277312     batchnormalization_13[0][0]      \n",
      "____________________________________________________________________________________________________\n",
      "leakyrelu_8 (LeakyReLU)          (None, 4, 4, 512)     0           convolution2d_8[0][0]            \n",
      "____________________________________________________________________________________________________\n",
      "batchnormalization_14 (BatchNorm (None, 4, 4, 512)     2048        leakyrelu_8[0][0]                \n",
      "____________________________________________________________________________________________________\n",
      "flatten_2 (Flatten)              (None, 8192)          0           batchnormalization_14[0][0]      \n",
      "____________________________________________________________________________________________________\n",
      "dense_4 (Dense)                  (None, 1)             8193        flatten_2[0][0]                  \n",
      "====================================================================================================\n",
      "Total params: 4,318,337\n",
      "Trainable params: 0\n",
      "Non-trainable params: 4,318,337\n",
      "____________________________________________________________________________________________________\n",
      "____________________________________________________________________________________________________\n",
      "Layer (type)                     Output Shape          Param #     Connected to                     \n",
      "====================================================================================================\n",
      "dense_3 (Dense)                  (None, 16384)         1654784     dense_input_2[0][0]              \n",
      "____________________________________________________________________________________________________\n",
      "reshape_2 (Reshape)              (None, 4, 4, 1024)    0           dense_3[0][0]                    \n",
      "____________________________________________________________________________________________________\n",
      "batchnormalization_8 (BatchNorma (None, 4, 4, 1024)    4096        reshape_2[0][0]                  \n",
      "____________________________________________________________________________________________________\n",
      "deconvolution2d_5 (Deconvolution (None, 8, 8, 512)     13107712    batchnormalization_8[0][0]       \n",
      "____________________________________________________________________________________________________\n",
      "batchnormalization_9 (BatchNorma (None, 8, 8, 512)     2048        deconvolution2d_5[0][0]          \n",
      "____________________________________________________________________________________________________\n",
      "deconvolution2d_6 (Deconvolution (None, 16, 16, 256)   3277056     batchnormalization_9[0][0]       \n",
      "____________________________________________________________________________________________________\n",
      "batchnormalization_10 (BatchNorm (None, 16, 16, 256)   1024        deconvolution2d_6[0][0]          \n",
      "____________________________________________________________________________________________________\n",
      "deconvolution2d_7 (Deconvolution (None, 32, 32, 128)   819328      batchnormalization_10[0][0]      \n",
      "____________________________________________________________________________________________________\n",
      "batchnormalization_11 (BatchNorm (None, 32, 32, 128)   512         deconvolution2d_7[0][0]          \n",
      "____________________________________________________________________________________________________\n",
      "deconvolution2d_8 (Deconvolution (None, 64, 64, 3)     9603        batchnormalization_11[0][0]      \n",
      "====================================================================================================\n",
      "Total params: 18,876,163\n",
      "Trainable params: 18,872,323\n",
      "Non-trainable params: 3,840\n",
      "____________________________________________________________________________________________________\n",
      "____________________________________________________________________________________________________\n",
      "Layer (type)                     Output Shape          Param #     Connected to                     \n",
      "====================================================================================================\n",
      "lambda_2 (Lambda)                (None, 64, 64, 3)     0           lambda_input_2[0][0]             \n",
      "____________________________________________________________________________________________________\n",
      "dense_3 (Dense)                  (None, 16384)         1654784     dense_input_2[0][0]              \n",
      "____________________________________________________________________________________________________\n",
      "reshape_2 (Reshape)              (None, 4, 4, 1024)    0           dense_3[0][0]                    \n",
      "____________________________________________________________________________________________________\n",
      "batchnormalization_8 (BatchNorma (None, 4, 4, 1024)    4096        reshape_2[0][0]                  \n",
      "____________________________________________________________________________________________________\n",
      "deconvolution2d_5 (Deconvolution (None, 8, 8, 512)     13107712    batchnormalization_8[0][0]       \n",
      "____________________________________________________________________________________________________\n",
      "batchnormalization_9 (BatchNorma (None, 8, 8, 512)     2048        deconvolution2d_5[0][0]          \n",
      "____________________________________________________________________________________________________\n",
      "deconvolution2d_6 (Deconvolution (None, 16, 16, 256)   3277056     batchnormalization_9[0][0]       \n",
      "____________________________________________________________________________________________________\n",
      "batchnormalization_10 (BatchNorm (None, 16, 16, 256)   1024        deconvolution2d_6[0][0]          \n",
      "____________________________________________________________________________________________________\n",
      "deconvolution2d_7 (Deconvolution (None, 32, 32, 128)   819328      batchnormalization_10[0][0]      \n",
      "____________________________________________________________________________________________________\n",
      "batchnormalization_11 (BatchNorm (None, 32, 32, 128)   512         deconvolution2d_7[0][0]          \n",
      "____________________________________________________________________________________________________\n",
      "deconvolution2d_8 (Deconvolution (None, 64, 64, 3)     9603        batchnormalization_11[0][0]      \n",
      "____________________________________________________________________________________________________\n",
      "sequential_7 (Sequential)        (None, 1)             4318337     deconvolution2d_8[0][0]          \n",
      "                                                                   merge_2[0][0]                    \n",
      "====================================================================================================\n",
      "Total params: 23,194,500\n",
      "Trainable params: 18,872,323\n",
      "Non-trainable params: 4,322,177\n",
      "____________________________________________________________________________________________________\n",
      "____________________________________________________________________________________________________\n",
      "Layer (type)                     Output Shape          Param #     Connected to                     \n",
      "====================================================================================================\n",
      "sequential_6 (Sequential)        (None, 64, 64, 3)     18876163                                     \n",
      "____________________________________________________________________________________________________\n",
      "sequential_7 (Sequential)        (None, 1)             4318337     deconvolution2d_8[0][0]          \n",
      "====================================================================================================\n",
      "Total params: 23,194,500\n",
      "Trainable params: 18,872,323\n",
      "Non-trainable params: 4,322,177\n",
      "____________________________________________________________________________________________________\n"
     ]
    }
   ],
   "source": [
    "# dcgan.discriminator.summary()\n",
    "# dcgan.generator.summary()\n",
    "# dcgan.train_model.summary()\n",
    "# dcgan.test_model.summary()"
   ]
  },
  {
   "cell_type": "code",
   "execution_count": 32,
   "metadata": {
    "collapsed": false,
    "deletable": true,
    "editable": true
   },
   "outputs": [
    {
     "name": "stdout",
     "output_type": "stream",
     "text": [
      "Epoch 1/10\n",
      "5/5 [==============================] - 3s - loss: 0.6730\n",
      "Epoch 2/10\n",
      "5/5 [==============================] - 1s - loss: 1.0195e-04\n",
      "Epoch 3/10\n",
      "5/5 [==============================] - 1s - loss: 8.7054e-05\n",
      "Epoch 4/10\n",
      "5/5 [==============================] - 1s - loss: 7.6094e-05\n",
      "Epoch 5/10\n",
      "5/5 [==============================] - 1s - loss: 6.7675e-05\n",
      "Epoch 6/10\n",
      "5/5 [==============================] - 1s - loss: 6.0973e-05\n",
      "Epoch 7/10\n",
      "5/5 [==============================] - 1s - loss: 5.5523e-05\n",
      "Epoch 8/10\n",
      "5/5 [==============================] - 1s - loss: 5.1016e-05\n",
      "Epoch 9/10\n",
      "5/5 [==============================] - 1s - loss: 4.7201e-05\n",
      "Epoch 10/10\n",
      "5/5 [==============================] - 1s - loss: 4.3933e-05\n"
     ]
    },
    {
     "data": {
      "text/plain": [
       "<keras.callbacks.History at 0x1200e7c90>"
      ]
     },
     "execution_count": 32,
     "metadata": {},
     "output_type": "execute_result"
    }
   ],
   "source": [
    "dcgan.test_model.fit(np.random.rand(5,100)*2 - 1, np.ones(5))"
   ]
  },
  {
   "cell_type": "code",
   "execution_count": 37,
   "metadata": {
    "collapsed": false,
    "deletable": true,
    "editable": true
   },
   "outputs": [
    {
     "name": "stdout",
     "output_type": "stream",
     "text": [
      "[<tf.Tensor 'lambda_input_9:0' shape=(?, 64, 64, 3) dtype=float32>, <tf.Tensor 'dense_input_1:0' shape=(?, 100) dtype=float32>]\n"
     ]
    }
   ],
   "source": [
    "a = np.random.randn(5,64,64,3)\n",
    "z =np.random.rand(2,100) * 2 - 1\n",
    "print dcgan.train_model.inputs"
   ]
  },
  {
   "cell_type": "code",
   "execution_count": 38,
   "metadata": {
    "collapsed": false,
    "deletable": true,
    "editable": true
   },
   "outputs": [
    {
     "name": "stderr",
     "output_type": "stream",
     "text": [
      "/usr/local/lib/python2.7/site-packages/keras/engine/topology.py:1811: UserWarning: Model inputs must come from a Keras Input layer, they cannot be the output of a previous non-Input layer. Here, a tensor specified as input to \"sequential_28_model\" was not an Input tensor, it was generated by layer lambda_11.\n",
      "Note that input tensors are instantiated via `tensor = Input(shape)`.\n",
      "The tensor that caused the issue was: lambda_input_9:0\n",
      "  str(x.name))\n",
      "/usr/local/lib/python2.7/site-packages/keras/engine/topology.py:1811: UserWarning: Model inputs must come from a Keras Input layer, they cannot be the output of a previous non-Input layer. Here, a tensor specified as input to \"sequential_27_model\" was not an Input tensor, it was generated by layer lambda_11.\n",
      "Note that input tensors are instantiated via `tensor = Input(shape)`.\n",
      "The tensor that caused the issue was: lambda_input_9:0\n",
      "  str(x.name))\n"
     ]
    },
    {
     "ename": "IndexError",
     "evalue": "index 2 is out of bounds for axis 0 with size 2",
     "output_type": "error",
     "traceback": [
      "\u001b[0;31m---------------------------------------------------------------------------\u001b[0m",
      "\u001b[0;31mIndexError\u001b[0m                                Traceback (most recent call last)",
      "\u001b[0;32m<ipython-input-38-6d26f485afd5>\u001b[0m in \u001b[0;36m<module>\u001b[0;34m()\u001b[0m\n\u001b[0;32m----> 1\u001b[0;31m \u001b[0;32mprint\u001b[0m \u001b[0mdcgan\u001b[0m\u001b[0;34m.\u001b[0m\u001b[0mtrain_model\u001b[0m\u001b[0;34m.\u001b[0m\u001b[0mpredict\u001b[0m\u001b[0;34m(\u001b[0m\u001b[0;34m[\u001b[0m\u001b[0ma\u001b[0m\u001b[0;34m,\u001b[0m\u001b[0mz\u001b[0m\u001b[0;34m]\u001b[0m\u001b[0;34m)\u001b[0m\u001b[0;34m\u001b[0m\u001b[0m\n\u001b[0m\u001b[1;32m      2\u001b[0m \u001b[0;31m# print dcgan.discriminator.predict(dcgan.generator.predict(z))\u001b[0m\u001b[0;34m\u001b[0m\u001b[0;34m\u001b[0m\u001b[0m\n",
      "\u001b[0;32m/usr/local/lib/python2.7/site-packages/keras/models.pyc\u001b[0m in \u001b[0;36mpredict\u001b[0;34m(self, x, batch_size, verbose)\u001b[0m\n\u001b[1;32m    722\u001b[0m         \u001b[0;32mif\u001b[0m \u001b[0mself\u001b[0m\u001b[0;34m.\u001b[0m\u001b[0mmodel\u001b[0m \u001b[0;32mis\u001b[0m \u001b[0mNone\u001b[0m\u001b[0;34m:\u001b[0m\u001b[0;34m\u001b[0m\u001b[0m\n\u001b[1;32m    723\u001b[0m             \u001b[0mself\u001b[0m\u001b[0;34m.\u001b[0m\u001b[0mbuild\u001b[0m\u001b[0;34m(\u001b[0m\u001b[0;34m)\u001b[0m\u001b[0;34m\u001b[0m\u001b[0m\n\u001b[0;32m--> 724\u001b[0;31m         \u001b[0;32mreturn\u001b[0m \u001b[0mself\u001b[0m\u001b[0;34m.\u001b[0m\u001b[0mmodel\u001b[0m\u001b[0;34m.\u001b[0m\u001b[0mpredict\u001b[0m\u001b[0;34m(\u001b[0m\u001b[0mx\u001b[0m\u001b[0;34m,\u001b[0m \u001b[0mbatch_size\u001b[0m\u001b[0;34m=\u001b[0m\u001b[0mbatch_size\u001b[0m\u001b[0;34m,\u001b[0m \u001b[0mverbose\u001b[0m\u001b[0;34m=\u001b[0m\u001b[0mverbose\u001b[0m\u001b[0;34m)\u001b[0m\u001b[0;34m\u001b[0m\u001b[0m\n\u001b[0m\u001b[1;32m    725\u001b[0m \u001b[0;34m\u001b[0m\u001b[0m\n\u001b[1;32m    726\u001b[0m     \u001b[0;32mdef\u001b[0m \u001b[0mpredict_on_batch\u001b[0m\u001b[0;34m(\u001b[0m\u001b[0mself\u001b[0m\u001b[0;34m,\u001b[0m \u001b[0mx\u001b[0m\u001b[0;34m)\u001b[0m\u001b[0;34m:\u001b[0m\u001b[0;34m\u001b[0m\u001b[0m\n",
      "\u001b[0;32m/usr/local/lib/python2.7/site-packages/keras/engine/training.pyc\u001b[0m in \u001b[0;36mpredict\u001b[0;34m(self, x, batch_size, verbose)\u001b[0m\n\u001b[1;32m   1270\u001b[0m         \u001b[0mf\u001b[0m \u001b[0;34m=\u001b[0m \u001b[0mself\u001b[0m\u001b[0;34m.\u001b[0m\u001b[0mpredict_function\u001b[0m\u001b[0;34m\u001b[0m\u001b[0m\n\u001b[1;32m   1271\u001b[0m         return self._predict_loop(f, ins,\n\u001b[0;32m-> 1272\u001b[0;31m                                   batch_size=batch_size, verbose=verbose)\n\u001b[0m\u001b[1;32m   1273\u001b[0m \u001b[0;34m\u001b[0m\u001b[0m\n\u001b[1;32m   1274\u001b[0m     def train_on_batch(self, x, y,\n",
      "\u001b[0;32m/usr/local/lib/python2.7/site-packages/keras/engine/training.pyc\u001b[0m in \u001b[0;36m_predict_loop\u001b[0;34m(self, f, ins, batch_size, verbose)\u001b[0m\n\u001b[1;32m    939\u001b[0m             \u001b[0;32mif\u001b[0m \u001b[0misinstance\u001b[0m\u001b[0;34m(\u001b[0m\u001b[0mins\u001b[0m\u001b[0;34m[\u001b[0m\u001b[0;34m-\u001b[0m\u001b[0;36m1\u001b[0m\u001b[0;34m]\u001b[0m\u001b[0;34m,\u001b[0m \u001b[0mfloat\u001b[0m\u001b[0;34m)\u001b[0m\u001b[0;34m:\u001b[0m\u001b[0;34m\u001b[0m\u001b[0m\n\u001b[1;32m    940\u001b[0m                 \u001b[0;31m# do not slice the training phase flag\u001b[0m\u001b[0;34m\u001b[0m\u001b[0;34m\u001b[0m\u001b[0m\n\u001b[0;32m--> 941\u001b[0;31m                 \u001b[0mins_batch\u001b[0m \u001b[0;34m=\u001b[0m \u001b[0mslice_X\u001b[0m\u001b[0;34m(\u001b[0m\u001b[0mins\u001b[0m\u001b[0;34m[\u001b[0m\u001b[0;34m:\u001b[0m\u001b[0;34m-\u001b[0m\u001b[0;36m1\u001b[0m\u001b[0;34m]\u001b[0m\u001b[0;34m,\u001b[0m \u001b[0mbatch_ids\u001b[0m\u001b[0;34m)\u001b[0m \u001b[0;34m+\u001b[0m \u001b[0;34m[\u001b[0m\u001b[0mins\u001b[0m\u001b[0;34m[\u001b[0m\u001b[0;34m-\u001b[0m\u001b[0;36m1\u001b[0m\u001b[0;34m]\u001b[0m\u001b[0;34m]\u001b[0m\u001b[0;34m\u001b[0m\u001b[0m\n\u001b[0m\u001b[1;32m    942\u001b[0m             \u001b[0;32melse\u001b[0m\u001b[0;34m:\u001b[0m\u001b[0;34m\u001b[0m\u001b[0m\n\u001b[1;32m    943\u001b[0m                 \u001b[0mins_batch\u001b[0m \u001b[0;34m=\u001b[0m \u001b[0mslice_X\u001b[0m\u001b[0;34m(\u001b[0m\u001b[0mins\u001b[0m\u001b[0;34m,\u001b[0m \u001b[0mbatch_ids\u001b[0m\u001b[0;34m)\u001b[0m\u001b[0;34m\u001b[0m\u001b[0m\n",
      "\u001b[0;32m/usr/local/lib/python2.7/site-packages/keras/engine/training.pyc\u001b[0m in \u001b[0;36mslice_X\u001b[0;34m(X, start, stop)\u001b[0m\n\u001b[1;32m    297\u001b[0m             \u001b[0;32mif\u001b[0m \u001b[0mhasattr\u001b[0m\u001b[0;34m(\u001b[0m\u001b[0mstart\u001b[0m\u001b[0;34m,\u001b[0m \u001b[0;34m'shape'\u001b[0m\u001b[0;34m)\u001b[0m\u001b[0;34m:\u001b[0m\u001b[0;34m\u001b[0m\u001b[0m\n\u001b[1;32m    298\u001b[0m                 \u001b[0mstart\u001b[0m \u001b[0;34m=\u001b[0m \u001b[0mstart\u001b[0m\u001b[0;34m.\u001b[0m\u001b[0mtolist\u001b[0m\u001b[0;34m(\u001b[0m\u001b[0;34m)\u001b[0m\u001b[0;34m\u001b[0m\u001b[0m\n\u001b[0;32m--> 299\u001b[0;31m             \u001b[0;32mreturn\u001b[0m \u001b[0;34m[\u001b[0m\u001b[0mx\u001b[0m\u001b[0;34m[\u001b[0m\u001b[0mstart\u001b[0m\u001b[0;34m]\u001b[0m \u001b[0;32mfor\u001b[0m \u001b[0mx\u001b[0m \u001b[0;32min\u001b[0m \u001b[0mX\u001b[0m\u001b[0;34m]\u001b[0m\u001b[0;34m\u001b[0m\u001b[0m\n\u001b[0m\u001b[1;32m    300\u001b[0m         \u001b[0;32melse\u001b[0m\u001b[0;34m:\u001b[0m\u001b[0;34m\u001b[0m\u001b[0m\n\u001b[1;32m    301\u001b[0m             \u001b[0;32mreturn\u001b[0m \u001b[0;34m[\u001b[0m\u001b[0mx\u001b[0m\u001b[0;34m[\u001b[0m\u001b[0mstart\u001b[0m\u001b[0;34m:\u001b[0m\u001b[0mstop\u001b[0m\u001b[0;34m]\u001b[0m \u001b[0;32mfor\u001b[0m \u001b[0mx\u001b[0m \u001b[0;32min\u001b[0m \u001b[0mX\u001b[0m\u001b[0;34m]\u001b[0m\u001b[0;34m\u001b[0m\u001b[0m\n",
      "\u001b[0;31mIndexError\u001b[0m: index 2 is out of bounds for axis 0 with size 2"
     ]
    }
   ],
   "source": [
    "print dcgan.train_model.predict([a,z])\n"
   ]
  },
  {
   "cell_type": "code",
   "execution_count": 21,
   "metadata": {
    "collapsed": false,
    "deletable": true,
    "editable": true
   },
   "outputs": [
    {
     "name": "stdout",
     "output_type": "stream",
     "text": [
      "Tensor(\"input_19:0\", shape=(?, 100), dtype=float32) Tensor(\"input_19:0\", shape=(?, 100), dtype=float32)\n",
      "Tensor(\"input_19:0\", shape=(?, 100), dtype=float32) Tensor(\"Relu_212:0\", shape=(?, 16384), dtype=float32)\n",
      "Tensor(\"Relu_212:0\", shape=(?, 16384), dtype=float32) Tensor(\"Reshape_155:0\", shape=(?, 4, 4, 1024), dtype=float32)\n",
      "Tensor(\"Reshape_155:0\", shape=(?, 4, 4, 1024), dtype=float32) Tensor(\"cond_102/Merge:0\", shape=(?, 4, 4, 1024), dtype=float32)\n",
      "Tensor(\"cond_102/Merge:0\", shape=(?, 4, 4, 1024), dtype=float32) Tensor(\"Relu_213:0\", shape=(?, ?, ?, 512), dtype=float32)\n",
      "Tensor(\"Relu_213:0\", shape=(?, ?, ?, 512), dtype=float32) Tensor(\"cond_103/Merge:0\", shape=(?, ?, ?, 512), dtype=float32)\n",
      "Tensor(\"cond_103/Merge:0\", shape=(?, ?, ?, 512), dtype=float32) Tensor(\"Relu_214:0\", shape=(?, ?, ?, 256), dtype=float32)\n",
      "Tensor(\"Relu_214:0\", shape=(?, ?, ?, 256), dtype=float32) Tensor(\"cond_104/Merge:0\", shape=(?, ?, ?, 256), dtype=float32)\n",
      "Tensor(\"cond_104/Merge:0\", shape=(?, ?, ?, 256), dtype=float32) Tensor(\"Relu_215:0\", shape=(?, ?, ?, 128), dtype=float32)\n",
      "Tensor(\"Relu_215:0\", shape=(?, ?, ?, 128), dtype=float32) Tensor(\"cond_105/Merge:0\", shape=(?, ?, ?, 128), dtype=float32)\n",
      "Tensor(\"cond_105/Merge:0\", shape=(?, ?, ?, 128), dtype=float32) Tensor(\"Tanh_9:0\", shape=(?, ?, ?, 3), dtype=float32)\n"
     ]
    }
   ],
   "source": [
    "for layer in dcgan.generator.layers:\n",
    "    print layer.input, layer.output"
   ]
  },
  {
   "cell_type": "code",
   "execution_count": 12,
   "metadata": {
    "collapsed": false,
    "deletable": true,
    "editable": true
   },
   "outputs": [],
   "source": [
    "plot(dcgan.train_model,to_file = 'a.png')"
   ]
  },
  {
   "cell_type": "code",
   "execution_count": null,
   "metadata": {
    "collapsed": true,
    "deletable": true,
    "editable": true
   },
   "outputs": [],
   "source": []
  }
 ],
 "metadata": {
  "kernelspec": {
   "display_name": "Python 2",
   "language": "python",
   "name": "python2"
  },
  "language_info": {
   "codemirror_mode": {
    "name": "ipython",
    "version": 2
   },
   "file_extension": ".py",
   "mimetype": "text/x-python",
   "name": "python",
   "nbconvert_exporter": "python",
   "pygments_lexer": "ipython2",
   "version": "2.7.13"
  }
 },
 "nbformat": 4,
 "nbformat_minor": 2
}
